{
  "nbformat": 4,
  "nbformat_minor": 0,
  "metadata": {
    "colab": {
      "provenance": [],
      "toc_visible": true,
      "authorship_tag": "ABX9TyO3MDboYAhToseWmYjEZc2j",
      "include_colab_link": true
    },
    "kernelspec": {
      "name": "python3",
      "display_name": "Python 3"
    },
    "language_info": {
      "name": "python"
    }
  },
  "cells": [
    {
      "cell_type": "markdown",
      "metadata": {
        "id": "view-in-github",
        "colab_type": "text"
      },
      "source": [
        "<a href=\"https://colab.research.google.com/github/priyankabolem/Learn-Python/blob/feature%2Fcolab/practice1014.ipynb\" target=\"_parent\"><img src=\"https://colab.research.google.com/assets/colab-badge.svg\" alt=\"Open In Colab\"/></a>"
      ]
    },
    {
      "cell_type": "markdown",
      "source": [
        "Lets practice code\n"
      ],
      "metadata": {
        "id": "oAN52s1Y5pGM"
      }
    },
    {
      "cell_type": "code",
      "execution_count": null,
      "metadata": {
        "id": "Afq5hfMPcP0P",
        "colab": {
          "base_uri": "https://localhost:8080/"
        },
        "outputId": "3a670b9d-e3f5-4439-a6d8-bb652e37107d"
      },
      "outputs": [
        {
          "output_type": "stream",
          "name": "stdout",
          "text": [
            "Enter your nameKarna\n",
            "Hi Karna\n"
          ]
        }
      ],
      "source": [
        "userInput = input(\"Enter your name\")\n",
        "print(\"Hi\", userInput)"
      ]
    },
    {
      "cell_type": "code",
      "source": [],
      "metadata": {
        "id": "KVjcqRqXvusi"
      },
      "execution_count": null,
      "outputs": []
    },
    {
      "cell_type": "code",
      "source": [
        "A = int(input(\"Enter A\"))\n",
        "B = int(input(\"Enter B\"))\n",
        "Add = A+B\n",
        "print(Add)"
      ],
      "metadata": {
        "colab": {
          "base_uri": "https://localhost:8080/"
        },
        "id": "BiDT7moT3UfP",
        "outputId": "8cfe7fb6-08e9-4181-9c91-cfd15f9124d8"
      },
      "execution_count": null,
      "outputs": [
        {
          "output_type": "stream",
          "name": "stdout",
          "text": [
            "Enter A2\n",
            "Enter B2\n",
            "4\n"
          ]
        }
      ]
    },
    {
      "cell_type": "code",
      "source": [
        "digit_word={\n",
        "    '0':'Zero',\n",
        "    '1' :'One',\n",
        "    '2' :'Two',\n",
        "    '3' :'Three',\n",
        "    '4' :'Four',\n",
        "    '5' :'Five'\n",
        "}\n",
        "\n",
        "def convertdigittoword(userinputparameter):\n",
        "  numstr = str(userinputparameter)\n",
        "  Numtodigit=[digit_word [digit]for digit in numstr]\n",
        "  return ' '.join(Numtodigit)\n",
        "\n",
        "Num = input(\"Enter number\")\n",
        "result= convertdigittoword(Num)\n",
        "print(result)"
      ],
      "metadata": {
        "colab": {
          "base_uri": "https://localhost:8080/"
        },
        "id": "qr5Ts2bm5v9k",
        "outputId": "c13d5b76-ca0c-4785-9810-6399e7139ca5"
      },
      "execution_count": null,
      "outputs": [
        {
          "output_type": "stream",
          "name": "stdout",
          "text": [
            "Enter number542\n",
            "Five Four Two\n"
          ]
        }
      ]
    }
  ]
}